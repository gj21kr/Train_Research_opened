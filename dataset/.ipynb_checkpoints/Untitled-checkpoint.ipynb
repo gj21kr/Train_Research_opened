{
 "cells": [
  {
   "cell_type": "code",
   "execution_count": 6,
   "id": "2c5bc2d3",
   "metadata": {},
   "outputs": [],
   "source": [
    "import os, glob, random\n",
    "import numpy as np\n",
    "import SimpleITK as sitk\n",
    "import monai\n",
    "from monai.data import *\n",
    "from monai.transforms import *"
   ]
  },
  {
   "cell_type": "code",
   "execution_count": 2,
   "id": "589d3d55",
   "metadata": {
    "scrolled": true
   },
   "outputs": [
    {
     "data": {
      "text/plain": [
       "['LS_YUHS_0002',\n",
       " 'LS_YUHS_0007',\n",
       " 'LS_YUHS_0009',\n",
       " 'LS_YUHS_0011',\n",
       " 'LS_YUHS_0012',\n",
       " 'LS_YUHS_0013',\n",
       " 'LS_YUHS_0014',\n",
       " 'LS_YUHS_0015',\n",
       " 'LS_YUHS_0016',\n",
       " 'LS_YUHS_0017',\n",
       " 'LS_YUHS_0018',\n",
       " 'LS_YUHS_0019',\n",
       " 'LS_YUHS_0020',\n",
       " 'LS_YUHS_0022',\n",
       " 'LS_YUHS_0023',\n",
       " 'LS_YUHS_0024',\n",
       " 'LS_YUHS_0026',\n",
       " 'LS_YUHS_0027',\n",
       " 'LS_YUHS_0029',\n",
       " 'LS_YUHS_0030',\n",
       " 'LS_YUHS_0031',\n",
       " 'LS_YUHS_0032',\n",
       " 'LS_YUHS_0033',\n",
       " 'LS_YUHS_0035',\n",
       " 'LS_YUHS_0036',\n",
       " 'LS_YUHS_0038',\n",
       " 'LS_YUHS_0039',\n",
       " 'LS_YUHS_0040',\n",
       " 'LS_YUHS_0042',\n",
       " 'LS_YUHS_0043',\n",
       " 'LS_YUHS_0045',\n",
       " 'LS_YUHS_0046',\n",
       " 'LS_YUHS_0047',\n",
       " 'LS_YUHS_0048',\n",
       " 'LS_YUHS_0049',\n",
       " 'LS_YUHS_0050',\n",
       " 'LS_YUHS_0051',\n",
       " 'LS_YUHS_0053',\n",
       " 'LS_YUHS_0054',\n",
       " 'LS_YUHS_0055',\n",
       " 'LS_YUHS_0077',\n",
       " 'LS_YUHS_0078',\n",
       " 'LS_YUHS_0080',\n",
       " 'LS_YUHS_0081',\n",
       " 'LS_YUHS_0082',\n",
       " 'LS_YUHS_0083',\n",
       " 'LS_YUHS_0084',\n",
       " 'LS_YUHS_0085',\n",
       " 'LS_YUHS_0086',\n",
       " 'LS_YUHS_0087',\n",
       " 'LS_YUHS_0088',\n",
       " 'LS_YUHS_0089',\n",
       " 'LS_YUHS_0091',\n",
       " 'LS_YUHS_0092',\n",
       " 'LS_YUHS_0094',\n",
       " 'LS_YUHS_0095',\n",
       " 'LS_YUHS_0096',\n",
       " 'LS_YUHS_0097',\n",
       " 'LS_YUHS_0098',\n",
       " 'LS_YUHS_0100',\n",
       " 'LS_YUHS_0101',\n",
       " 'LS_YUHS_0103',\n",
       " 'LS_YUHS_0104',\n",
       " 'LS_YUHS_0105',\n",
       " 'LS_YUHS_0106',\n",
       " 'LS_YUHS_0107',\n",
       " 'LS_YUHS_0108',\n",
       " 'LS_YUHS_0109',\n",
       " 'LS_YUHS_0110',\n",
       " 'LS_YUHS_0111',\n",
       " 'LS_YUHS_0112',\n",
       " 'LS_YUHS_0113',\n",
       " 'LS_YUHS_0114',\n",
       " 'LS_YUHS_0115',\n",
       " 'LS_YUHS_0116',\n",
       " 'LS_YUHS_0117',\n",
       " 'LS_YUHS_0118',\n",
       " 'LS_YUHS_0120',\n",
       " 'LS_YUHS_0121',\n",
       " 'LS_YUHS_0122',\n",
       " 'LS_YUHS_0123',\n",
       " 'LS_YUHS_0124',\n",
       " 'LS_YUHS_0125',\n",
       " 'LS_YUHS_0126',\n",
       " 'LS_YUHS_0127',\n",
       " 'LS_YUHS_0128',\n",
       " 'LS_YUHS_0131',\n",
       " 'LS_YUHS_0132',\n",
       " 'LS_YUHS_0134',\n",
       " 'LS_YUHS_0135',\n",
       " 'LS_YUHS_0136',\n",
       " 'LS_YUHS_0137',\n",
       " 'LS_YUHS_0138',\n",
       " 'LS_YUHS_0139',\n",
       " 'LS_YUHS_0140',\n",
       " 'LS_YUHS_0141',\n",
       " 'LS_YUHS_0143',\n",
       " 'LS_YUHS_0144',\n",
       " 'LS_YUHS_0146',\n",
       " 'LS_YUHS_0148']"
      ]
     },
     "execution_count": 2,
     "metadata": {},
     "output_type": "execute_result"
    }
   ],
   "source": [
    "base = \"/nas3/jepark/hutom_lung\"\n",
    "p_names = [i.split('.')[0] for i in os.listdir(base+'/label') ]\n",
    "p_names"
   ]
  },
  {
   "cell_type": "code",
   "execution_count": 3,
   "id": "866ca7ee",
   "metadata": {},
   "outputs": [
    {
     "data": {
      "text/plain": [
       "[{'image': '/nas3/jepark/hutom_lung/image/LS_YUHS_0002.nii.gz',\n",
       "  'label': '/nas3/jepark/hutom_lung/label/LS_YUHS_0002/LUNG.nii.gz'},\n",
       " {'image': '/nas3/jepark/hutom_lung/image/LS_YUHS_0007.nii.gz',\n",
       "  'label': '/nas3/jepark/hutom_lung/label/LS_YUHS_0007/LUNG.nii.gz'},\n",
       " {'image': '/nas3/jepark/hutom_lung/image/LS_YUHS_0009.nii.gz',\n",
       "  'label': '/nas3/jepark/hutom_lung/label/LS_YUHS_0009/LUNG.nii.gz'},\n",
       " {'image': '/nas3/jepark/hutom_lung/image/LS_YUHS_0011.nii.gz',\n",
       "  'label': '/nas3/jepark/hutom_lung/label/LS_YUHS_0011/LUNG.nii.gz'},\n",
       " {'image': '/nas3/jepark/hutom_lung/image/LS_YUHS_0012.nii.gz',\n",
       "  'label': '/nas3/jepark/hutom_lung/label/LS_YUHS_0012/LUNG.nii.gz'},\n",
       " {'image': '/nas3/jepark/hutom_lung/image/LS_YUHS_0013.nii.gz',\n",
       "  'label': '/nas3/jepark/hutom_lung/label/LS_YUHS_0013/LUNG.nii.gz'},\n",
       " {'image': '/nas3/jepark/hutom_lung/image/LS_YUHS_0014.nii.gz',\n",
       "  'label': '/nas3/jepark/hutom_lung/label/LS_YUHS_0014/LUNG.nii.gz'},\n",
       " {'image': '/nas3/jepark/hutom_lung/image/LS_YUHS_0015.nii.gz',\n",
       "  'label': '/nas3/jepark/hutom_lung/label/LS_YUHS_0015/LUNG.nii.gz'},\n",
       " {'image': '/nas3/jepark/hutom_lung/image/LS_YUHS_0016.nii.gz',\n",
       "  'label': '/nas3/jepark/hutom_lung/label/LS_YUHS_0016/LUNG.nii.gz'},\n",
       " {'image': '/nas3/jepark/hutom_lung/image/LS_YUHS_0017.nii.gz',\n",
       "  'label': '/nas3/jepark/hutom_lung/label/LS_YUHS_0017/LUNG.nii.gz'},\n",
       " {'image': '/nas3/jepark/hutom_lung/image/LS_YUHS_0018.nii.gz',\n",
       "  'label': '/nas3/jepark/hutom_lung/label/LS_YUHS_0018/LUNG.nii.gz'},\n",
       " {'image': '/nas3/jepark/hutom_lung/image/LS_YUHS_0019.nii.gz',\n",
       "  'label': '/nas3/jepark/hutom_lung/label/LS_YUHS_0019/LUNG.nii.gz'},\n",
       " {'image': '/nas3/jepark/hutom_lung/image/LS_YUHS_0020.nii.gz',\n",
       "  'label': '/nas3/jepark/hutom_lung/label/LS_YUHS_0020/LUNG.nii.gz'},\n",
       " {'image': '/nas3/jepark/hutom_lung/image/LS_YUHS_0022.nii.gz',\n",
       "  'label': '/nas3/jepark/hutom_lung/label/LS_YUHS_0022/LUNG.nii.gz'},\n",
       " {'image': '/nas3/jepark/hutom_lung/image/LS_YUHS_0023.nii.gz',\n",
       "  'label': '/nas3/jepark/hutom_lung/label/LS_YUHS_0023/LUNG.nii.gz'},\n",
       " {'image': '/nas3/jepark/hutom_lung/image/LS_YUHS_0024.nii.gz',\n",
       "  'label': '/nas3/jepark/hutom_lung/label/LS_YUHS_0024/LUNG.nii.gz'},\n",
       " {'image': '/nas3/jepark/hutom_lung/image/LS_YUHS_0026.nii.gz',\n",
       "  'label': '/nas3/jepark/hutom_lung/label/LS_YUHS_0026/LUNG.nii.gz'},\n",
       " {'image': '/nas3/jepark/hutom_lung/image/LS_YUHS_0027.nii.gz',\n",
       "  'label': '/nas3/jepark/hutom_lung/label/LS_YUHS_0027/LUNG.nii.gz'},\n",
       " {'image': '/nas3/jepark/hutom_lung/image/LS_YUHS_0029.nii.gz',\n",
       "  'label': '/nas3/jepark/hutom_lung/label/LS_YUHS_0029/LUNG.nii.gz'},\n",
       " {'image': '/nas3/jepark/hutom_lung/image/LS_YUHS_0030.nii.gz',\n",
       "  'label': '/nas3/jepark/hutom_lung/label/LS_YUHS_0030/LUNG.nii.gz'},\n",
       " {'image': '/nas3/jepark/hutom_lung/image/LS_YUHS_0031.nii.gz',\n",
       "  'label': '/nas3/jepark/hutom_lung/label/LS_YUHS_0031/LUNG.nii.gz'},\n",
       " {'image': '/nas3/jepark/hutom_lung/image/LS_YUHS_0032.nii.gz',\n",
       "  'label': '/nas3/jepark/hutom_lung/label/LS_YUHS_0032/LUNG.nii.gz'},\n",
       " {'image': '/nas3/jepark/hutom_lung/image/LS_YUHS_0033.nii.gz',\n",
       "  'label': '/nas3/jepark/hutom_lung/label/LS_YUHS_0033/LUNG.nii.gz'},\n",
       " {'image': '/nas3/jepark/hutom_lung/image/LS_YUHS_0035.nii.gz',\n",
       "  'label': '/nas3/jepark/hutom_lung/label/LS_YUHS_0035/LUNG.nii.gz'},\n",
       " {'image': '/nas3/jepark/hutom_lung/image/LS_YUHS_0036.nii.gz',\n",
       "  'label': '/nas3/jepark/hutom_lung/label/LS_YUHS_0036/LUNG.nii.gz'},\n",
       " {'image': '/nas3/jepark/hutom_lung/image/LS_YUHS_0038.nii.gz',\n",
       "  'label': '/nas3/jepark/hutom_lung/label/LS_YUHS_0038/LUNG.nii.gz'},\n",
       " {'image': '/nas3/jepark/hutom_lung/image/LS_YUHS_0039.nii.gz',\n",
       "  'label': '/nas3/jepark/hutom_lung/label/LS_YUHS_0039/LUNG.nii.gz'},\n",
       " {'image': '/nas3/jepark/hutom_lung/image/LS_YUHS_0040.nii.gz',\n",
       "  'label': '/nas3/jepark/hutom_lung/label/LS_YUHS_0040/LUNG.nii.gz'},\n",
       " {'image': '/nas3/jepark/hutom_lung/image/LS_YUHS_0042.nii.gz',\n",
       "  'label': '/nas3/jepark/hutom_lung/label/LS_YUHS_0042/LUNG.nii.gz'},\n",
       " {'image': '/nas3/jepark/hutom_lung/image/LS_YUHS_0043.nii.gz',\n",
       "  'label': '/nas3/jepark/hutom_lung/label/LS_YUHS_0043/LUNG.nii.gz'},\n",
       " {'image': '/nas3/jepark/hutom_lung/image/LS_YUHS_0045.nii.gz',\n",
       "  'label': '/nas3/jepark/hutom_lung/label/LS_YUHS_0045/LUNG.nii.gz'},\n",
       " {'image': '/nas3/jepark/hutom_lung/image/LS_YUHS_0046.nii.gz',\n",
       "  'label': '/nas3/jepark/hutom_lung/label/LS_YUHS_0046/LUNG.nii.gz'},\n",
       " {'image': '/nas3/jepark/hutom_lung/image/LS_YUHS_0047.nii.gz',\n",
       "  'label': '/nas3/jepark/hutom_lung/label/LS_YUHS_0047/LUNG.nii.gz'},\n",
       " {'image': '/nas3/jepark/hutom_lung/image/LS_YUHS_0048.nii.gz',\n",
       "  'label': '/nas3/jepark/hutom_lung/label/LS_YUHS_0048/LUNG.nii.gz'},\n",
       " {'image': '/nas3/jepark/hutom_lung/image/LS_YUHS_0049.nii.gz',\n",
       "  'label': '/nas3/jepark/hutom_lung/label/LS_YUHS_0049/LUNG.nii.gz'},\n",
       " {'image': '/nas3/jepark/hutom_lung/image/LS_YUHS_0050.nii.gz',\n",
       "  'label': '/nas3/jepark/hutom_lung/label/LS_YUHS_0050/LUNG.nii.gz'},\n",
       " {'image': '/nas3/jepark/hutom_lung/image/LS_YUHS_0051.nii.gz',\n",
       "  'label': '/nas3/jepark/hutom_lung/label/LS_YUHS_0051/LUNG.nii.gz'},\n",
       " {'image': '/nas3/jepark/hutom_lung/image/LS_YUHS_0053.nii.gz',\n",
       "  'label': '/nas3/jepark/hutom_lung/label/LS_YUHS_0053/LUNG.nii.gz'},\n",
       " {'image': '/nas3/jepark/hutom_lung/image/LS_YUHS_0054.nii.gz',\n",
       "  'label': '/nas3/jepark/hutom_lung/label/LS_YUHS_0054/LUNG.nii.gz'},\n",
       " {'image': '/nas3/jepark/hutom_lung/image/LS_YUHS_0055.nii.gz',\n",
       "  'label': '/nas3/jepark/hutom_lung/label/LS_YUHS_0055/LUNG.nii.gz'},\n",
       " {'image': '/nas3/jepark/hutom_lung/image/LS_YUHS_0077.nii.gz',\n",
       "  'label': '/nas3/jepark/hutom_lung/label/LS_YUHS_0077/LUNG.nii.gz'},\n",
       " {'image': '/nas3/jepark/hutom_lung/image/LS_YUHS_0078.nii.gz',\n",
       "  'label': '/nas3/jepark/hutom_lung/label/LS_YUHS_0078/LUNG.nii.gz'},\n",
       " {'image': '/nas3/jepark/hutom_lung/image/LS_YUHS_0080.nii.gz',\n",
       "  'label': '/nas3/jepark/hutom_lung/label/LS_YUHS_0080/LUNG.nii.gz'},\n",
       " {'image': '/nas3/jepark/hutom_lung/image/LS_YUHS_0081.nii.gz',\n",
       "  'label': '/nas3/jepark/hutom_lung/label/LS_YUHS_0081/LUNG.nii.gz'},\n",
       " {'image': '/nas3/jepark/hutom_lung/image/LS_YUHS_0082.nii.gz',\n",
       "  'label': '/nas3/jepark/hutom_lung/label/LS_YUHS_0082/LUNG.nii.gz'},\n",
       " {'image': '/nas3/jepark/hutom_lung/image/LS_YUHS_0083.nii.gz',\n",
       "  'label': '/nas3/jepark/hutom_lung/label/LS_YUHS_0083/LUNG.nii.gz'},\n",
       " {'image': '/nas3/jepark/hutom_lung/image/LS_YUHS_0084.nii.gz',\n",
       "  'label': '/nas3/jepark/hutom_lung/label/LS_YUHS_0084/LUNG.nii.gz'},\n",
       " {'image': '/nas3/jepark/hutom_lung/image/LS_YUHS_0085.nii.gz',\n",
       "  'label': '/nas3/jepark/hutom_lung/label/LS_YUHS_0085/LUNG.nii.gz'},\n",
       " {'image': '/nas3/jepark/hutom_lung/image/LS_YUHS_0086.nii.gz',\n",
       "  'label': '/nas3/jepark/hutom_lung/label/LS_YUHS_0086/LUNG.nii.gz'},\n",
       " {'image': '/nas3/jepark/hutom_lung/image/LS_YUHS_0087.nii.gz',\n",
       "  'label': '/nas3/jepark/hutom_lung/label/LS_YUHS_0087/LUNG.nii.gz'},\n",
       " {'image': '/nas3/jepark/hutom_lung/image/LS_YUHS_0088.nii.gz',\n",
       "  'label': '/nas3/jepark/hutom_lung/label/LS_YUHS_0088/LUNG.nii.gz'},\n",
       " {'image': '/nas3/jepark/hutom_lung/image/LS_YUHS_0089.nii.gz',\n",
       "  'label': '/nas3/jepark/hutom_lung/label/LS_YUHS_0089/LUNG.nii.gz'},\n",
       " {'image': '/nas3/jepark/hutom_lung/image/LS_YUHS_0091.nii.gz',\n",
       "  'label': '/nas3/jepark/hutom_lung/label/LS_YUHS_0091/LUNG.nii.gz'},\n",
       " {'image': '/nas3/jepark/hutom_lung/image/LS_YUHS_0092.nii.gz',\n",
       "  'label': '/nas3/jepark/hutom_lung/label/LS_YUHS_0092/LUNG.nii.gz'},\n",
       " {'image': '/nas3/jepark/hutom_lung/image/LS_YUHS_0094.nii.gz',\n",
       "  'label': '/nas3/jepark/hutom_lung/label/LS_YUHS_0094/LUNG.nii.gz'},\n",
       " {'image': '/nas3/jepark/hutom_lung/image/LS_YUHS_0095.nii.gz',\n",
       "  'label': '/nas3/jepark/hutom_lung/label/LS_YUHS_0095/LUNG.nii.gz'},\n",
       " {'image': '/nas3/jepark/hutom_lung/image/LS_YUHS_0096.nii.gz',\n",
       "  'label': '/nas3/jepark/hutom_lung/label/LS_YUHS_0096/LUNG.nii.gz'},\n",
       " {'image': '/nas3/jepark/hutom_lung/image/LS_YUHS_0097.nii.gz',\n",
       "  'label': '/nas3/jepark/hutom_lung/label/LS_YUHS_0097/LUNG.nii.gz'},\n",
       " {'image': '/nas3/jepark/hutom_lung/image/LS_YUHS_0098.nii.gz',\n",
       "  'label': '/nas3/jepark/hutom_lung/label/LS_YUHS_0098/LUNG.nii.gz'},\n",
       " {'image': '/nas3/jepark/hutom_lung/image/LS_YUHS_0100.nii.gz',\n",
       "  'label': '/nas3/jepark/hutom_lung/label/LS_YUHS_0100/LUNG.nii.gz'},\n",
       " {'image': '/nas3/jepark/hutom_lung/image/LS_YUHS_0101.nii.gz',\n",
       "  'label': '/nas3/jepark/hutom_lung/label/LS_YUHS_0101/LUNG.nii.gz'},\n",
       " {'image': '/nas3/jepark/hutom_lung/image/LS_YUHS_0103.nii.gz',\n",
       "  'label': '/nas3/jepark/hutom_lung/label/LS_YUHS_0103/LUNG.nii.gz'},\n",
       " {'image': '/nas3/jepark/hutom_lung/image/LS_YUHS_0104.nii.gz',\n",
       "  'label': '/nas3/jepark/hutom_lung/label/LS_YUHS_0104/LUNG.nii.gz'},\n",
       " {'image': '/nas3/jepark/hutom_lung/image/LS_YUHS_0105.nii.gz',\n",
       "  'label': '/nas3/jepark/hutom_lung/label/LS_YUHS_0105/LUNG.nii.gz'},\n",
       " {'image': '/nas3/jepark/hutom_lung/image/LS_YUHS_0106.nii.gz',\n",
       "  'label': '/nas3/jepark/hutom_lung/label/LS_YUHS_0106/LUNG.nii.gz'},\n",
       " {'image': '/nas3/jepark/hutom_lung/image/LS_YUHS_0107.nii.gz',\n",
       "  'label': '/nas3/jepark/hutom_lung/label/LS_YUHS_0107/LUNG.nii.gz'},\n",
       " {'image': '/nas3/jepark/hutom_lung/image/LS_YUHS_0108.nii.gz',\n",
       "  'label': '/nas3/jepark/hutom_lung/label/LS_YUHS_0108/LUNG.nii.gz'},\n",
       " {'image': '/nas3/jepark/hutom_lung/image/LS_YUHS_0109.nii.gz',\n",
       "  'label': '/nas3/jepark/hutom_lung/label/LS_YUHS_0109/LUNG.nii.gz'},\n",
       " {'image': '/nas3/jepark/hutom_lung/image/LS_YUHS_0110.nii.gz',\n",
       "  'label': '/nas3/jepark/hutom_lung/label/LS_YUHS_0110/LUNG.nii.gz'},\n",
       " {'image': '/nas3/jepark/hutom_lung/image/LS_YUHS_0111.nii.gz',\n",
       "  'label': '/nas3/jepark/hutom_lung/label/LS_YUHS_0111/LUNG.nii.gz'},\n",
       " {'image': '/nas3/jepark/hutom_lung/image/LS_YUHS_0112.nii.gz',\n",
       "  'label': '/nas3/jepark/hutom_lung/label/LS_YUHS_0112/LUNG.nii.gz'},\n",
       " {'image': '/nas3/jepark/hutom_lung/image/LS_YUHS_0113.nii.gz',\n",
       "  'label': '/nas3/jepark/hutom_lung/label/LS_YUHS_0113/LUNG.nii.gz'},\n",
       " {'image': '/nas3/jepark/hutom_lung/image/LS_YUHS_0114.nii.gz',\n",
       "  'label': '/nas3/jepark/hutom_lung/label/LS_YUHS_0114/LUNG.nii.gz'},\n",
       " {'image': '/nas3/jepark/hutom_lung/image/LS_YUHS_0115.nii.gz',\n",
       "  'label': '/nas3/jepark/hutom_lung/label/LS_YUHS_0115/LUNG.nii.gz'},\n",
       " {'image': '/nas3/jepark/hutom_lung/image/LS_YUHS_0116.nii.gz',\n",
       "  'label': '/nas3/jepark/hutom_lung/label/LS_YUHS_0116/LUNG.nii.gz'},\n",
       " {'image': '/nas3/jepark/hutom_lung/image/LS_YUHS_0117.nii.gz',\n",
       "  'label': '/nas3/jepark/hutom_lung/label/LS_YUHS_0117/LUNG.nii.gz'},\n",
       " {'image': '/nas3/jepark/hutom_lung/image/LS_YUHS_0118.nii.gz',\n",
       "  'label': '/nas3/jepark/hutom_lung/label/LS_YUHS_0118/LUNG.nii.gz'},\n",
       " {'image': '/nas3/jepark/hutom_lung/image/LS_YUHS_0120.nii.gz',\n",
       "  'label': '/nas3/jepark/hutom_lung/label/LS_YUHS_0120/LUNG.nii.gz'},\n",
       " {'image': '/nas3/jepark/hutom_lung/image/LS_YUHS_0121.nii.gz',\n",
       "  'label': '/nas3/jepark/hutom_lung/label/LS_YUHS_0121/LUNG.nii.gz'},\n",
       " {'image': '/nas3/jepark/hutom_lung/image/LS_YUHS_0122.nii.gz',\n",
       "  'label': '/nas3/jepark/hutom_lung/label/LS_YUHS_0122/LUNG.nii.gz'},\n",
       " {'image': '/nas3/jepark/hutom_lung/image/LS_YUHS_0123.nii.gz',\n",
       "  'label': '/nas3/jepark/hutom_lung/label/LS_YUHS_0123/LUNG.nii.gz'},\n",
       " {'image': '/nas3/jepark/hutom_lung/image/LS_YUHS_0124.nii.gz',\n",
       "  'label': '/nas3/jepark/hutom_lung/label/LS_YUHS_0124/LUNG.nii.gz'},\n",
       " {'image': '/nas3/jepark/hutom_lung/image/LS_YUHS_0125.nii.gz',\n",
       "  'label': '/nas3/jepark/hutom_lung/label/LS_YUHS_0125/LUNG.nii.gz'},\n",
       " {'image': '/nas3/jepark/hutom_lung/image/LS_YUHS_0126.nii.gz',\n",
       "  'label': '/nas3/jepark/hutom_lung/label/LS_YUHS_0126/LUNG.nii.gz'},\n",
       " {'image': '/nas3/jepark/hutom_lung/image/LS_YUHS_0127.nii.gz',\n",
       "  'label': '/nas3/jepark/hutom_lung/label/LS_YUHS_0127/LUNG.nii.gz'},\n",
       " {'image': '/nas3/jepark/hutom_lung/image/LS_YUHS_0128.nii.gz',\n",
       "  'label': '/nas3/jepark/hutom_lung/label/LS_YUHS_0128/LUNG.nii.gz'},\n",
       " {'image': '/nas3/jepark/hutom_lung/image/LS_YUHS_0131.nii.gz',\n",
       "  'label': '/nas3/jepark/hutom_lung/label/LS_YUHS_0131/LUNG.nii.gz'},\n",
       " {'image': '/nas3/jepark/hutom_lung/image/LS_YUHS_0132.nii.gz',\n",
       "  'label': '/nas3/jepark/hutom_lung/label/LS_YUHS_0132/LUNG.nii.gz'},\n",
       " {'image': '/nas3/jepark/hutom_lung/image/LS_YUHS_0134.nii.gz',\n",
       "  'label': '/nas3/jepark/hutom_lung/label/LS_YUHS_0134/LUNG.nii.gz'},\n",
       " {'image': '/nas3/jepark/hutom_lung/image/LS_YUHS_0135.nii.gz',\n",
       "  'label': '/nas3/jepark/hutom_lung/label/LS_YUHS_0135/LUNG.nii.gz'},\n",
       " {'image': '/nas3/jepark/hutom_lung/image/LS_YUHS_0136.nii.gz',\n",
       "  'label': '/nas3/jepark/hutom_lung/label/LS_YUHS_0136/LUNG.nii.gz'},\n",
       " {'image': '/nas3/jepark/hutom_lung/image/LS_YUHS_0137.nii.gz',\n",
       "  'label': '/nas3/jepark/hutom_lung/label/LS_YUHS_0137/LUNG.nii.gz'},\n",
       " {'image': '/nas3/jepark/hutom_lung/image/LS_YUHS_0138.nii.gz',\n",
       "  'label': '/nas3/jepark/hutom_lung/label/LS_YUHS_0138/LUNG.nii.gz'},\n",
       " {'image': '/nas3/jepark/hutom_lung/image/LS_YUHS_0139.nii.gz',\n",
       "  'label': '/nas3/jepark/hutom_lung/label/LS_YUHS_0139/LUNG.nii.gz'},\n",
       " {'image': '/nas3/jepark/hutom_lung/image/LS_YUHS_0140.nii.gz',\n",
       "  'label': '/nas3/jepark/hutom_lung/label/LS_YUHS_0140/LUNG.nii.gz'},\n",
       " {'image': '/nas3/jepark/hutom_lung/image/LS_YUHS_0141.nii.gz',\n",
       "  'label': '/nas3/jepark/hutom_lung/label/LS_YUHS_0141/LUNG.nii.gz'},\n",
       " {'image': '/nas3/jepark/hutom_lung/image/LS_YUHS_0143.nii.gz',\n",
       "  'label': '/nas3/jepark/hutom_lung/label/LS_YUHS_0143/LUNG.nii.gz'},\n",
       " {'image': '/nas3/jepark/hutom_lung/image/LS_YUHS_0144.nii.gz',\n",
       "  'label': '/nas3/jepark/hutom_lung/label/LS_YUHS_0144/LUNG.nii.gz'},\n",
       " {'image': '/nas3/jepark/hutom_lung/image/LS_YUHS_0146.nii.gz',\n",
       "  'label': '/nas3/jepark/hutom_lung/label/LS_YUHS_0146/LUNG.nii.gz'},\n",
       " {'image': '/nas3/jepark/hutom_lung/image/LS_YUHS_0148.nii.gz',\n",
       "  'label': '/nas3/jepark/hutom_lung/label/LS_YUHS_0148/LUNG.nii.gz'}]"
      ]
     },
     "execution_count": 3,
     "metadata": {},
     "output_type": "execute_result"
    }
   ],
   "source": [
    "dict_ = [{\"image\":os.path.join(base,'image')+'/{}.nii.gz'.format(p_name), \n",
    "         \"label\":os.path.join(base,'label')+'/{}/LUNG.nii.gz'.format(p_name)} for p_name in p_names]\n",
    "dict_"
   ]
  },
  {
   "cell_type": "code",
   "execution_count": 4,
   "id": "8e03177b",
   "metadata": {},
   "outputs": [],
   "source": [
    "trans = Compose({\n",
    "    LoadImaged(keys=[\"image\",\"label\"]),\n",
    "    AddChanneld(keys=[\"image\"]),\n",
    "    ToTensord(keys=[\"image\", \"label\"]),      \n",
    "})\n",
    "# data = trans(dict_)"
   ]
  },
  {
   "cell_type": "code",
   "execution_count": 9,
   "id": "190fcb2c",
   "metadata": {},
   "outputs": [],
   "source": [
    "ds = Dataset(dict_, trans)\n",
    "dl = DataLoader(ds, batch_size=1)"
   ]
  },
  {
   "cell_type": "code",
   "execution_count": null,
   "id": "1af91dc8",
   "metadata": {
    "scrolled": true
   },
   "outputs": [
    {
     "name": "stdout",
     "output_type": "stream",
     "text": [
      "torch.Size([1, 1, 512, 512, 370]) torch.Size([1, 2, 512, 512, 370])\n",
      "['/nas3/jepark/hutom_lung/image/LS_YUHS_0002.nii.gz']\n",
      "torch.Size([1, 1, 512, 512, 456]) torch.Size([1, 2, 512, 512, 456])\n",
      "['/nas3/jepark/hutom_lung/image/LS_YUHS_0007.nii.gz']\n",
      "torch.Size([1, 1, 512, 512, 413]) torch.Size([1, 2, 512, 512, 413])\n",
      "['/nas3/jepark/hutom_lung/image/LS_YUHS_0009.nii.gz']\n",
      "torch.Size([1, 1, 512, 512, 375]) torch.Size([1, 2, 512, 512, 375])\n",
      "['/nas3/jepark/hutom_lung/image/LS_YUHS_0011.nii.gz']\n",
      "torch.Size([1, 1, 512, 512, 413]) torch.Size([1, 2, 512, 512, 413])\n",
      "['/nas3/jepark/hutom_lung/image/LS_YUHS_0012.nii.gz']\n",
      "torch.Size([1, 1, 512, 512, 336]) torch.Size([1, 2, 512, 512, 336])\n",
      "['/nas3/jepark/hutom_lung/image/LS_YUHS_0013.nii.gz']\n",
      "torch.Size([1, 1, 512, 512, 341]) torch.Size([1, 2, 512, 512, 341])\n",
      "['/nas3/jepark/hutom_lung/image/LS_YUHS_0014.nii.gz']\n"
     ]
    }
   ],
   "source": [
    "for this_dict in dl:#dict_[55:90]:\n",
    "    print(this_dict[\"image_meta_dict\"][\"filename_or_obj\"])\n",
    "    print(this_dict[\"image\"].shape, this_dict[\"label\"].shape)"
   ]
  },
  {
   "cell_type": "code",
   "execution_count": 10,
   "id": "8a8f987e",
   "metadata": {},
   "outputs": [],
   "source": [
    "def resample(image, transform):\n",
    "    # Output image Origin, Spacing, Size, Direction are taken from the reference\n",
    "    # image in this call to Resample\n",
    "    reference_image = image\n",
    "    interpolator = sitk.sitkCosineWindowedSinc\n",
    "    default_value = float(np.min(sitk.GetArrayFromImage(image)))\n",
    "#     return sitk.Resample(image, transform)\n",
    "    return sitk.Resample(image, reference_image, transform, interpolator, default_value)"
   ]
  },
  {
   "cell_type": "code",
   "execution_count": 11,
   "id": "ad9ae723",
   "metadata": {},
   "outputs": [
    {
     "name": "stdout",
     "output_type": "stream",
     "text": [
      "itk::simple::AffineTransform\n",
      " AffineTransform (0x55ffc667d550)\n",
      "   RTTI typeinfo:   itk::AffineTransform<double, 3u>\n",
      "   Reference Count: 1\n",
      "   Modified Time: 1562\n",
      "   Debug: Off\n",
      "   Object Name: \n",
      "   Observers: \n",
      "     none\n",
      "   Matrix: \n",
      "     0.993238 -0.0868241 0.0770686 \n",
      "     0.093 0.992404 -0.0805329 \n",
      "     -0.069491 0.0871557 0.993768 \n",
      "   Offset: [11.242, 7.56704, 0.212203]\n",
      "   Center: [258, 256, 256]\n",
      "   Translation: [7, 9, 3]\n",
      "   Inverse: \n",
      "     0.993238 0.093 -0.069491 \n",
      "     -0.0868241 0.992404 0.0871557 \n",
      "     0.0770686 -0.0805329 0.993768 \n",
      "   Singular: 0\n",
      "\n"
     ]
    }
   ],
   "source": [
    "rotation_center = (ct.GetSize()[0]//2, ct.GetSize()[1]//2, ct.GetSize()[2]//2)\n",
    "theta_x = np.pi*random.randrange(1,10)/180\n",
    "theta_y = np.pi*random.randrange(1,10)/180\n",
    "theta_z = np.pi*random.randrange(1,10)/180\n",
    "translation = (random.randrange(0,10),random.randrange(0,10),random.randrange(0,10))\n",
    "\n",
    "rigid_euler = sitk.Euler3DTransform(rotation_center, theta_x, theta_y, theta_z, translation)\n",
    "\n",
    "similarity = sitk.Similarity3DTransform()\n",
    "similarity.SetMatrix(rigid_euler.GetMatrix())\n",
    "similarity.SetTranslation(rigid_euler.GetTranslation())\n",
    "similarity.SetCenter(rigid_euler.GetCenter())\n",
    "\n",
    "affine = sitk.AffineTransform(3)\n",
    "affine.SetMatrix(similarity.GetMatrix())\n",
    "affine.SetTranslation(similarity.GetTranslation())\n",
    "affine.SetCenter(similarity.GetCenter())\n",
    "print(affine)"
   ]
  },
  {
   "cell_type": "code",
   "execution_count": 21,
   "id": "e550731b",
   "metadata": {},
   "outputs": [
    {
     "data": {
      "text/plain": [
       "((0.9932381390867053,\n",
       "  -0.08682408883346517,\n",
       "  0.07706864902031835,\n",
       "  0.0929999780118264,\n",
       "  0.9924038765061041,\n",
       "  -0.08053291243620353,\n",
       "  -0.06949102930147368,\n",
       "  0.08715574274765817,\n",
       "  0.9937680178757644,\n",
       "  7.0,\n",
       "  9.0,\n",
       "  3.0),\n",
       " (7.0, 9.0, 3.0))"
      ]
     },
     "execution_count": 21,
     "metadata": {},
     "output_type": "execute_result"
    }
   ],
   "source": [
    "affine.GetParameters(), affine.GetTranslation()"
   ]
  },
  {
   "cell_type": "code",
   "execution_count": 17,
   "id": "4d0af1a0",
   "metadata": {},
   "outputs": [
    {
     "data": {
      "text/plain": [
       "array([[ 0.99323814, -0.08682409,  0.07706865],\n",
       "       [ 0.09299998,  0.99240388, -0.08053291],\n",
       "       [-0.06949103,  0.08715574,  0.99376802]])"
      ]
     },
     "execution_count": 17,
     "metadata": {},
     "output_type": "execute_result"
    }
   ],
   "source": [
    "M = np.reshape(affine.GetMatrix(),(3,3)), np.reshape(affine.)"
   ]
  },
  {
   "cell_type": "code",
   "execution_count": 80,
   "id": "82c67198",
   "metadata": {},
   "outputs": [],
   "source": [
    "new_ct = resample(ct, affine)\n",
    "new_gt = resample(gt, affine)"
   ]
  },
  {
   "cell_type": "code",
   "execution_count": 81,
   "id": "293168fd",
   "metadata": {},
   "outputs": [
    {
     "data": {
      "text/plain": [
       "((512, 512, 516), (512, 512, 516), (512, 512, 516), (512, 512, 516))"
      ]
     },
     "execution_count": 81,
     "metadata": {},
     "output_type": "execute_result"
    }
   ],
   "source": [
    "import matplotlib.pyplot as plt\n",
    "ct_array = sitk.GetArrayFromImage(ct)\n",
    "ct_new_array = sitk.GetArrayFromImage(new_ct)\n",
    "gt_array = sitk.GetArrayFromImage(gt)\n",
    "gt_new_array = sitk.GetArrayFromImage(new_gt)\n",
    "ct_array.shape, ct_new_array.shape, gt_array.shape, gt_new_array.shape"
   ]
  },
  {
   "cell_type": "code",
   "execution_count": 82,
   "id": "946cf7d9",
   "metadata": {},
   "outputs": [
    {
     "data": {
      "text/plain": [
       "array([-0.48426366, -0.48370144, -0.4684554 , ...,  1.5744522 ,\n",
       "        1.5808123 ,  1.624353  ], dtype=float32)"
      ]
     },
     "execution_count": 82,
     "metadata": {},
     "output_type": "execute_result"
    }
   ],
   "source": [
    "np.unique(gt_new_array)"
   ]
  },
  {
   "cell_type": "code",
   "execution_count": null,
   "id": "cdb62ec9",
   "metadata": {},
   "outputs": [],
   "source": [
    "for i in reversed(range(516)):    \n",
    "    fig, (ax1,ax2,ax3,ax4) = plt.subplots(1,4)\n",
    "    ax1.imshow(ct_array[:,:,i],'gray')\n",
    "    ax1.axis('off')\n",
    "    ax2.imshow(ct_new_array[:,:,i],'gray')\n",
    "    ax2.axis('off')\n",
    "    ax3.imshow(gt_array[:,:,i],'gray')\n",
    "    ax3.axis('off')\n",
    "    ax4.imshow(gt_new_array[:,:,i],'gray')\n",
    "    ax4.axis('off')\n",
    "    plt.show()"
   ]
  },
  {
   "cell_type": "code",
   "execution_count": null,
   "id": "c9d3609e",
   "metadata": {},
   "outputs": [],
   "source": []
  }
 ],
 "metadata": {
  "kernelspec": {
   "display_name": "Python 3 (ipykernel)",
   "language": "python",
   "name": "python3"
  },
  "language_info": {
   "codemirror_mode": {
    "name": "ipython",
    "version": 3
   },
   "file_extension": ".py",
   "mimetype": "text/x-python",
   "name": "python",
   "nbconvert_exporter": "python",
   "pygments_lexer": "ipython3",
   "version": "3.8.12"
  }
 },
 "nbformat": 4,
 "nbformat_minor": 5
}
